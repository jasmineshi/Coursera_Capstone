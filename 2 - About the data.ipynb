{
 "cells": [
  {
   "cell_type": "markdown",
   "metadata": {},
   "source": [
    "## Data Background"
   ]
  },
  {
   "cell_type": "markdown",
   "metadata": {},
   "source": [
    "    I chose to analyse data from three big urban cities in Canada, namely Toronto, Montreal, and Vancouver. I will be using the Foursquare API to gather data about popular venues. As for crime rate, the data for each city is openly accessible from their respective police departments’ websites. The neighborhoods that I am investigating are the ones that are characterized in the police data. Furthermore, I decided to retrieve data from the year 2019 because I expect 2020 data will differ from the norm due to COVID-19 and social distancing."
   ]
  },
  {
   "cell_type": "markdown",
   "metadata": {},
   "source": [
    "    First, let’s dive into police data. My goal is to get the rate in which different types of crimes occur in each neighborhood. This specific information is conveniently shared in the annual report of all three police forces’ open dataset. The respective forces are Vancouver Police Department (VPD) in Vancouver, Toronto Police Service (TPS) in Toronto, and Service de police de la ville de Montreal (SPVM) in Montreal. There are slight differences in how the data is presented between each police force. For example for VPD and not the others, homicide and attempted murders were excluded in the crime rate by neighborhood dataset, presumably to not cause distress in the public by knowing where homicide occurred. I will only include features that are shared by all datasets. The rate for a specific crime type in a specific neighborhood will be calculated as follows:\n",
    "$$\n",
    "\\frac{\\text{# occurrences of that crime type in that neighborhood}}{\\text{all occurrences of that crime across all neighborhoods in that municipality}}\n",
    "$$"
   ]
  },
  {
   "cell_type": "markdown",
   "metadata": {},
   "source": [
    "    Next, let’s look at location data. I want to calculate the rate in which different venue types occur in each neighborhood, to judge how popular they are there. I will use the Foursquare API “venue/explore?” option to get a list of the popular venues for each neighborhood. I will then extract the “category type” variable for each venue. The resulting dataset will have different category types as its columns and neighborhoods as its rows. The rate of occurrence for a specific venue type will be calculated as follows:\n",
    "$$\n",
    "\\frac{\\text{# of occurrences of that venue type in that neighborhood}}{\\text{All occurrences of that venue type across all neighborhoods in that municipality}}\n",
    "$$"
   ]
  },
  {
   "cell_type": "markdown",
   "metadata": {},
   "source": [
    "    The location and crime data for all neighborhoods in all cities will then be merged. With rows consisting of neighborhoods and columns consisting of features. The data will be fed into unsupervised learning model to be clustered into groups. "
   ]
  }
 ],
 "metadata": {
  "kernelspec": {
   "display_name": "Python 3",
   "language": "python",
   "name": "python3"
  },
  "language_info": {
   "codemirror_mode": {
    "name": "ipython",
    "version": 3
   },
   "file_extension": ".py",
   "mimetype": "text/x-python",
   "name": "python",
   "nbconvert_exporter": "python",
   "pygments_lexer": "ipython3",
   "version": "3.6.3"
  }
 },
 "nbformat": 4,
 "nbformat_minor": 2
}
