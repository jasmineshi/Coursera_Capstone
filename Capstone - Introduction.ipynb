{
 "cells": [
  {
   "cell_type": "markdown",
   "metadata": {},
   "source": [
    "## Introduction"
   ]
  },
  {
   "cell_type": "markdown",
   "metadata": {},
   "source": [
    "    In 1950, the percentage of the world population living in urban areas was just 30%. As urbanization runs its course in this fast-growing era, this number is projected to increase to 68% in 2050 as estimated by the UN. Amongst this, wealthy Canada is unsurprisingly at the higher end; it is estimated to have an urban population of 87% in 2050. That means that compared to 2021, 8 million more people will try to squish into its cities! (1)"
   ]
  },
  {
   "cell_type": "markdown",
   "metadata": {},
   "source": [
    "    As someone living in Vancouver, one of the most populous cities in Canada, I believe urban municipalities need to be prepared to welcome these newcomers. One question I can imagine migrants will have is “there are so many neighborhoods, where should I live?”. Why I’m glad you asked! My goal for this project is to help migrants understand the different neighborhoods in the top Canadian cities. For this, I will be comparing and grouping neighborhoods with respect to its most popular venues and its crime rate. "
   ]
  },
  {
   "cell_type": "markdown",
   "metadata": {},
   "source": [
    "(1) Hannah Ritchie (2018) - \"Urbanization\". Published online at OurWorldInData.org. Retrieved from: 'https://ourworldindata.org/urbanization' [Online Resource]"
   ]
  }
 ],
 "metadata": {
  "kernelspec": {
   "display_name": "Python 3",
   "language": "python",
   "name": "python3"
  },
  "language_info": {
   "codemirror_mode": {
    "name": "ipython",
    "version": 3
   },
   "file_extension": ".py",
   "mimetype": "text/x-python",
   "name": "python",
   "nbconvert_exporter": "python",
   "pygments_lexer": "ipython3",
   "version": "3.6.3"
  }
 },
 "nbformat": 4,
 "nbformat_minor": 2
}
